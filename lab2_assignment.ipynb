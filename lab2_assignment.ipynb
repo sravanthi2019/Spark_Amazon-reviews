{
 "cells": [
  {
   "cell_type": "markdown",
   "metadata": {},
   "source": [
    "## Lab2 Assignment\n",
    "> 1. Calculate and display the count of people (gender wise) who have taken treatment for mental health condition.\n",
    "> 2. What is the average age of participants (gender wise) from the country \"Canada\"?\n",
    "> 3. What is the youngest age of participant from United Kingdom?\n",
    "> 4. List the count of participants who work for tech company , country wise?\n",
    "> 5. List the top 10 participants by age who had family history of mental health issues and had taken the treament."
   ]
  },
  {
   "cell_type": "code",
   "execution_count": 5,
   "metadata": {},
   "outputs": [],
   "source": [
    "# Creating Spark Session\n",
    "from pyspark.sql import SparkSession\n",
    "\n",
    "spark = SparkSession \\\n",
    "    .builder \\\n",
    "    .appName(\"Python Spark SQL basic example\") \\\n",
    "    .config(\"spark.some.config.option\", \"some-value\") \\\n",
    "    .getOrCreate()"
   ]
  },
  {
   "cell_type": "code",
   "execution_count": 6,
   "metadata": {},
   "outputs": [],
   "source": [
    "# Reading data\n",
    "surveyDf = spark.read.options(header=\"true\",\\\n",
    "                              inferSchema=\"true\",\\\n",
    "                              nullValue=\"NA\",\\\n",
    "                              timestampFormat=\"yyyy-MM-dd'T'HH:mm:ss\",\\\n",
    "                              mode=\"failfast\")\\\n",
    "                             .csv(\"/Users/sravanthi/Documents/Sandbox/spark/survey.csv\")"
   ]
  },
  {
   "cell_type": "code",
   "execution_count": 7,
   "metadata": {},
   "outputs": [
    {
     "data": {
      "text/plain": [
       "DataFrame[summary: string, Timestamp: string, Age: string, Gender: string, Country: string, state: string, self_employed: string, family_history: string, treatment: string, work_interfere: string, no_employees: string, remote_work: string, tech_company: string, benefits: string, care_options: string, wellness_program: string, seek_help: string, anonymity: string, leave: string, mental_health_consequence: string, phys_health_consequence: string, coworkers: string, supervisor: string, mental_health_interview: string, phys_health_interview: string, mental_vs_physical: string, obs_consequence: string, comments: string]"
      ]
     },
     "execution_count": 7,
     "metadata": {},
     "output_type": "execute_result"
    }
   ],
   "source": [
    "#Summary of dataframe\n",
    "surveyDf.summary()"
   ]
  },
  {
   "cell_type": "code",
   "execution_count": 8,
   "metadata": {},
   "outputs": [],
   "source": [
    "# As there are many wrongly imputed data in gender column. categorized gender to 3 groups Female, Male, No gender\n",
    "\n",
    "from pyspark.sql import functions as F\n",
    "from pyspark.sql.functions import when   \n",
    "\n",
    "surveyDf = surveyDf.withColumn(\"Gender\",\n",
    "                                F.when(surveyDf[\"Gender\"] == \"Cis Female\", \"Female\")\n",
    "                                .when(surveyDf[\"Gender\"] == \"cis-female/femme\", \"Female\")\n",
    "                                .when(surveyDf[\"Gender\"] == \"Woman\", \"Female\")\n",
    "                                .when(surveyDf[\"Gender\"] == \"F\", \"Female\")\n",
    "                                .when(surveyDf[\"Gender\"] == \"Femake\", \"Female\")\n",
    "                                .when(surveyDf[\"Gender\"] == \"femail\", \"Female\")\n",
    "                                .when(surveyDf[\"Gender\"] == \"Female (cis)\", \"Female\")\n",
    "                                .when(surveyDf[\"Gender\"] == \"female\", \"Female\")\n",
    "                                .when(surveyDf[\"Gender\"] == \"Cis Male\", \"Male\")\n",
    "                                .when(surveyDf[\"Gender\"] == \"Cis Man\", \"Male\")\n",
    "                                .when(surveyDf[\"Gender\"] == \"Guy (-ish) ^_^\", \"Male\")\n",
    "                                .when(surveyDf[\"Gender\"] == \"M\", \"Male\")\n",
    "                                .when(surveyDf[\"Gender\"] == \"Mail\", \"Male\")\n",
    "                                .when(surveyDf[\"Gender\"] == \"maile\", \"Male\")\n",
    "                                .when(surveyDf[\"Gender\"] == \"Make\", \"Male\")\n",
    "                                .when(surveyDf[\"Gender\"] == \"Mal\", \"Male\")\n",
    "                                .when(surveyDf[\"Gender\"] == \"Male (CIS)\", \"Male\")\n",
    "                                .when(surveyDf[\"Gender\"] == \"Male-ish\", \"Male\")\n",
    "                                .when(surveyDf[\"Gender\"] == \"Malr\", \"Male\")\n",
    "                                .when(surveyDf[\"Gender\"] == \"Man\", \"Male\")\n",
    "                                .when(surveyDf[\"Gender\"] == \"msle\", \"Male\")\n",
    "                                .when(surveyDf[\"Gender\"] == \"Male\", \"Male\")\n",
    "                                .when(surveyDf[\"Gender\"] == \"male\", \"Male\")\n",
    "                                .otherwise(\"No gender\")\n",
    "                                \n",
    "                                )\n",
    "          "
   ]
  },
  {
   "cell_type": "code",
   "execution_count": 9,
   "metadata": {},
   "outputs": [
    {
     "name": "stdout",
     "output_type": "stream",
     "text": [
      "+---------+-------------+\n",
      "|   gender|count(gender)|\n",
      "+---------+-------------+\n",
      "|No gender|           35|\n",
      "|   Female|           24|\n",
      "|     Male|          115|\n",
      "+---------+-------------+\n",
      "\n"
     ]
    }
   ],
   "source": [
    "# 1. Calculate and display the count of people (gender wise) who have taken treatment for mental health condition.\n",
    "\n",
    "# Register the DataFrame as a SQL temporary view\n",
    "surveyDf.createOrReplaceTempView(\"surveydf\")\n",
    "# spark.sql(\"select unique(gender) from surveydf\")\n",
    "sqlsurveyDf = spark.sql('select gender,count(gender) from surveyDf where mental_health_consequence == \"Yes\" and treatment = \"Yes\" group by gender ')\n",
    "sqlsurveyDf.show()\n",
    "                        "
   ]
  },
  {
   "cell_type": "code",
   "execution_count": 10,
   "metadata": {},
   "outputs": [
    {
     "name": "stdout",
     "output_type": "stream",
     "text": [
      "+---------+------------------+\n",
      "|   gender|           avg_age|\n",
      "+---------+------------------+\n",
      "|No gender|             30.25|\n",
      "|   Female|              28.6|\n",
      "|     Male|29.181818181818183|\n",
      "+---------+------------------+\n",
      "\n"
     ]
    }
   ],
   "source": [
    "# 2. What is the average age of participants (gender wise) from the country \"Canada\"?\n",
    "\n",
    "sqlsurveyDf1 = spark.sql('select gender, Avg(Age) as avg_age from surveyDf where Country == \"Canada\" group by gender ')\n",
    "sqlsurveyDf1.show()\n"
   ]
  },
  {
   "cell_type": "code",
   "execution_count": 11,
   "metadata": {},
   "outputs": [
    {
     "name": "stdout",
     "output_type": "stream",
     "text": [
      "+--------------+---+\n",
      "|       Country|Age|\n",
      "+--------------+---+\n",
      "|United Kingdom| 18|\n",
      "+--------------+---+\n",
      "\n"
     ]
    }
   ],
   "source": [
    "# 3. What is the youngest age of participant from United Kingdom?\n",
    "\n",
    "sqlsurveyDf2 = spark.sql('select Country,Age from surveyDf where Country == \"United Kingdom\" and Age > 0 order by Age limit 1 ')\n",
    "sqlsurveyDf2.show()"
   ]
  },
  {
   "cell_type": "code",
   "execution_count": 12,
   "metadata": {},
   "outputs": [
    {
     "name": "stdout",
     "output_type": "stream",
     "text": [
      "+-------------+------------------+\n",
      "|      country|Count_participants|\n",
      "+-------------+------------------+\n",
      "|       Russia|                 3|\n",
      "|       Sweden|                 7|\n",
      "|  Philippines|                 1|\n",
      "|    Singapore|                 4|\n",
      "|      Germany|                40|\n",
      "|       France|                12|\n",
      "|       Greece|                 2|\n",
      "|      Belgium|                 3|\n",
      "|      Finland|                 2|\n",
      "|United States|               611|\n",
      "|        India|                 9|\n",
      "|        China|                 1|\n",
      "|      Croatia|                 2|\n",
      "|      Nigeria|                 1|\n",
      "|        Italy|                 5|\n",
      "|       Norway|                 1|\n",
      "|        Spain|                 1|\n",
      "|      Denmark|                 2|\n",
      "|      Ireland|                26|\n",
      "|     Thailand|                 1|\n",
      "+-------------+------------------+\n",
      "only showing top 20 rows\n",
      "\n"
     ]
    }
   ],
   "source": [
    "# 4. List the count of participants who work for tech company , country wise?\n",
    "\n",
    "sqlsurveyDf3 = spark.sql('select country, count(*) as Count_participants  from surveyDf where tech_company == \"Yes\" group by country')\n",
    "sqlsurveyDf3.show()"
   ]
  },
  {
   "cell_type": "code",
   "execution_count": 13,
   "metadata": {},
   "outputs": [
    {
     "name": "stdout",
     "output_type": "stream",
     "text": [
      "+---+\n",
      "|age|\n",
      "+---+\n",
      "| -1|\n",
      "|  8|\n",
      "| 21|\n",
      "| 22|\n",
      "| 22|\n",
      "| 23|\n",
      "| 23|\n",
      "| 24|\n",
      "| 24|\n",
      "| 24|\n",
      "| 24|\n",
      "| 25|\n",
      "| 25|\n",
      "| 25|\n",
      "| 25|\n",
      "| 25|\n",
      "| 25|\n",
      "| 25|\n",
      "| 25|\n",
      "| 26|\n",
      "+---+\n",
      "only showing top 20 rows\n",
      "\n"
     ]
    }
   ],
   "source": [
    "# 5. List the top 10 participants by age who had family history of mental health issues and had taken the treament.\n",
    " \n",
    "sqlsurveyDf3 = spark.sql('select age from surveyDf where family_history == \"Yes\" and mental_health_consequence == \"Yes\" and treatment = \"Yes\" order by age ')\n",
    "sqlsurveyDf3.show()\n"
   ]
  },
  {
   "cell_type": "code",
   "execution_count": null,
   "metadata": {},
   "outputs": [],
   "source": []
  }
 ],
 "metadata": {
  "kernelspec": {
   "display_name": "Python 3",
   "language": "python",
   "name": "python3"
  },
  "language_info": {
   "codemirror_mode": {
    "name": "ipython",
    "version": 3
   },
   "file_extension": ".py",
   "mimetype": "text/x-python",
   "name": "python",
   "nbconvert_exporter": "python",
   "pygments_lexer": "ipython3",
   "version": "3.7.4"
  }
 },
 "nbformat": 4,
 "nbformat_minor": 2
}
